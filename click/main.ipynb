{
 "cells": [
  {
   "cell_type": "code",
   "execution_count": 1,
   "id": "8fdac342",
   "metadata": {},
   "outputs": [
    {
     "name": "stdout",
     "output_type": "stream",
     "text": [
      "5\n",
      "Joni\n"
     ]
    }
   ],
   "source": [
    "x = 5\n",
    "y = \"Joni\"\n",
    "print (x)\n",
    "print (y)"
   ]
  },
  {
   "cell_type": "code",
   "execution_count": 2,
   "id": "c5f75cc9",
   "metadata": {},
   "outputs": [
    {
     "name": "stdout",
     "output_type": "stream",
     "text": [
      "<class 'int'>\n",
      "<class 'str'>\n"
     ]
    }
   ],
   "source": [
    "x = 5\n",
    "y = \"Joko\"\n",
    "print (type(x))\n",
    "print (type(y))"
   ]
  },
  {
   "cell_type": "code",
   "execution_count": 3,
   "id": "62536d9c",
   "metadata": {},
   "outputs": [
    {
     "name": "stdout",
     "output_type": "stream",
     "text": [
      "asu\n",
      "celeng\n",
      "joko\n"
     ]
    }
   ],
   "source": [
    "#EXAMPLE\n",
    "a, b, c = \"asu\", \"celeng\", \"joko\"\n",
    "print (a)\n",
    "print (b)\n",
    "print (c)"
   ]
  }
 ],
 "metadata": {
  "kernelspec": {
   "display_name": "Python 3",
   "language": "python",
   "name": "python3"
  },
  "language_info": {
   "codemirror_mode": {
    "name": "ipython",
    "version": 3
   },
   "file_extension": ".py",
   "mimetype": "text/x-python",
   "name": "python",
   "nbconvert_exporter": "python",
   "pygments_lexer": "ipython3",
   "version": "3.13.0"
  }
 },
 "nbformat": 4,
 "nbformat_minor": 5
}
